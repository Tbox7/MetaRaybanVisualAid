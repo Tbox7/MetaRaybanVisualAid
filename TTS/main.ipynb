{
 "cells": [
  {
   "cell_type": "code",
   "execution_count": 3,
   "metadata": {},
   "outputs": [],
   "source": [
    "from gtts import gTTS\n",
    "import os"
   ]
  },
  {
   "cell_type": "code",
   "execution_count": 4,
   "metadata": {},
   "outputs": [],
   "source": [
    "\n",
    "def text_to_speech(text, lang='en'):\n",
    "    \"\"\"\n",
    "    Convert input text to speech using Google Text-to-Speech (gTTS).\n",
    "    :param text: The text to convert to speech.\n",
    "    :param lang: Language of the speech (default is English).\n",
    "    \"\"\"\n",
    "    tts = gTTS(text=text, lang=lang, slow=False)\n",
    "    tts.save(\"output.mp3\")  # Save the audio file\n",
    "    os.system(\"start output.mp3\")  # Play the audio (Windows) | use 'afplay' for Mac, 'mpg321' for Linux\n"
   ]
  },
  {
   "cell_type": "markdown",
   "metadata": {},
   "source": [
    "### Example"
   ]
  },
  {
   "cell_type": "code",
   "execution_count": 6,
   "metadata": {},
   "outputs": [],
   "source": [
    "text_to_speech(\"Hello there I am gay. I like women and I am a real nigga.\")"
   ]
  },
  {
   "cell_type": "code",
   "execution_count": null,
   "metadata": {},
   "outputs": [],
   "source": []
  }
 ],
 "metadata": {
  "kernelspec": {
   "display_name": "Python 3",
   "language": "python",
   "name": "python3"
  },
  "language_info": {
   "codemirror_mode": {
    "name": "ipython",
    "version": 3
   },
   "file_extension": ".py",
   "mimetype": "text/x-python",
   "name": "python",
   "nbconvert_exporter": "python",
   "pygments_lexer": "ipython3",
   "version": "3.11.9"
  }
 },
 "nbformat": 4,
 "nbformat_minor": 2
}
