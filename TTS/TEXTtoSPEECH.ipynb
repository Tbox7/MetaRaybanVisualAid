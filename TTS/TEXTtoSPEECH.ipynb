{
 "cells": [
  {
   "cell_type": "code",
   "execution_count": 26,
   "metadata": {},
   "outputs": [],
   "source": [
    "import cv2\n",
    "import pytesseract\n",
    "from gtts import gTTS\n",
    "import os\n",
    "import time"
   ]
  },
  {
   "cell_type": "code",
   "execution_count": 27,
   "metadata": {},
   "outputs": [
    {
     "name": "stdout",
     "output_type": "stream",
     "text": [
      "0.3.13\n"
     ]
    }
   ],
   "source": [
    "import pytesseract\n",
    "print(pytesseract.__version__)"
   ]
  },
  {
   "cell_type": "code",
   "execution_count": 28,
   "metadata": {},
   "outputs": [],
   "source": [
    "# Configure Tesseract OCR (Update this path for Windows users)\n",
    "pytesseract.pytesseract.tesseract_cmd = r\"C:\\Program Files\\Tesseract-OCR\\tesseract.exe\"  # Change if needed"
   ]
  },
  {
   "cell_type": "code",
   "execution_count": 29,
   "metadata": {},
   "outputs": [],
   "source": [
    "def text_to_speech(text, lang='en'):\n",
    "    \"\"\"\n",
    "    Convert detected text to speech using gTTS.\n",
    "    \"\"\"\n",
    "    tts = gTTS(text=text, lang=lang, slow=False)\n",
    "    tts.save(\"output.mp3\")  # Save audio file\n",
    "    os.system(\"start output.mp3\")  # Play audio (Windows) | 'afplay' for Mac, 'mpg321' for Linux"
   ]
  },
  {
   "cell_type": "code",
   "execution_count": 30,
   "metadata": {},
   "outputs": [],
   "source": [
    "cap = cv2.VideoCapture(0)\n",
    "\n",
    "if not cap.isOpened():\n",
    "    print(\"Error: Could not open webcam.\")\n",
    "    exit()\n",
    "\n",
    "last_spoken = \"\"  # Store last spoken text to avoid repetition"
   ]
  },
  {
   "cell_type": "code",
   "execution_count": 33,
   "metadata": {},
   "outputs": [
    {
     "ename": "KeyboardInterrupt",
     "evalue": "",
     "output_type": "error",
     "traceback": [
      "\u001b[1;31m---------------------------------------------------------------------------\u001b[0m",
      "\u001b[1;31mKeyboardInterrupt\u001b[0m                         Traceback (most recent call last)",
      "Cell \u001b[1;32mIn[33], line 34\u001b[0m\n\u001b[0;32m     32\u001b[0m \u001b[38;5;66;03m# Speak detected text only if different from last spoken text\u001b[39;00m\n\u001b[0;32m     33\u001b[0m \u001b[38;5;28;01mif\u001b[39;00m detected_text \u001b[38;5;241m!=\u001b[39m last_spoken:\n\u001b[1;32m---> 34\u001b[0m     \u001b[43mtext_to_speech\u001b[49m\u001b[43m(\u001b[49m\u001b[43mdetected_text\u001b[49m\u001b[43m)\u001b[49m\n\u001b[0;32m     35\u001b[0m     last_spoken \u001b[38;5;241m=\u001b[39m detected_text  \u001b[38;5;66;03m# Update last spoken text\u001b[39;00m\n\u001b[0;32m     36\u001b[0m     time\u001b[38;5;241m.\u001b[39msleep(\u001b[38;5;241m2\u001b[39m)  \u001b[38;5;66;03m# Prevent repeating too fast\u001b[39;00m\n",
      "Cell \u001b[1;32mIn[29], line 7\u001b[0m, in \u001b[0;36mtext_to_speech\u001b[1;34m(text, lang)\u001b[0m\n\u001b[0;32m      5\u001b[0m tts \u001b[38;5;241m=\u001b[39m gTTS(text\u001b[38;5;241m=\u001b[39mtext, lang\u001b[38;5;241m=\u001b[39mlang, slow\u001b[38;5;241m=\u001b[39m\u001b[38;5;28;01mFalse\u001b[39;00m)\n\u001b[0;32m      6\u001b[0m tts\u001b[38;5;241m.\u001b[39msave(\u001b[38;5;124m\"\u001b[39m\u001b[38;5;124moutput.mp3\u001b[39m\u001b[38;5;124m\"\u001b[39m)  \u001b[38;5;66;03m# Save audio file\u001b[39;00m\n\u001b[1;32m----> 7\u001b[0m os\u001b[38;5;241m.\u001b[39msystem(\u001b[38;5;124m\"\u001b[39m\u001b[38;5;124mstart output.mp3\u001b[39m\u001b[38;5;124m\"\u001b[39m)\n",
      "\u001b[1;31mKeyboardInterrupt\u001b[0m: "
     ]
    }
   ],
   "source": [
    "while True:\n",
    "    ret, frame = cap.read()\n",
    "    if not ret:\n",
    "        print(\"Error: Could not read frame.\")\n",
    "        break\n",
    "\n",
    "    # Convert to grayscale (better for OCR)\n",
    "    gray = cv2.cvtColor(frame, cv2.COLOR_BGR2GRAY)\n",
    "\n",
    "    # Apply adaptive thresholding for better OCR on handwriting\n",
    "    gray = cv2.adaptiveThreshold(gray, 255, cv2.ADAPTIVE_THRESH_GAUSSIAN_C, \n",
    "                                 cv2.THRESH_BINARY, 31, 2)\n",
    "\n",
    "    # Use OCR to detect handwritten & printed text\n",
    "    text_data = pytesseract.image_to_data(gray, output_type=pytesseract.Output.DICT)\n",
    "\n",
    "    for i in range(len(text_data['text'])):\n",
    "        if int(text_data['conf'][i]) > 50:  # Confidence threshold (lower for handwriting)\n",
    "            x, y, w, h = (text_data['left'][i], text_data['top'][i], \n",
    "                          text_data['width'][i], text_data['height'][i])\n",
    "            detected_text = text_data['text'][i].strip()\n",
    "\n",
    "            if detected_text:\n",
    "                # Draw red bounding box around detected text\n",
    "                cv2.rectangle(frame, (x, y), (x + w, y + h), (0, 0, 255), 2)\n",
    "\n",
    "                # Draw label below the text\n",
    "                cv2.rectangle(frame, (x, y + h), (x + w, y + h + 25), (0, 0, 255), -1)\n",
    "                cv2.putText(frame, detected_text, (x + 5, y + h + 20), \n",
    "                            cv2.FONT_HERSHEY_SIMPLEX, 0.7, (255, 255, 255), 2)\n",
    "\n",
    "                # Speak detected text only if different from last spoken text\n",
    "                if detected_text != last_spoken:\n",
    "                    text_to_speech(detected_text)\n",
    "                    last_spoken = detected_text  # Update last spoken text\n",
    "                    time.sleep(2)  # Prevent repeating too fast\n",
    "\n",
    "    # Show the frame\n",
    "    cv2.imshow(\"Handwritten & Printed Text Reader with Speech\", frame)\n",
    "\n",
    "    # Press 'q' to exit\n",
    "    if cv2.waitKey(1) & 0xFF == ord('q'):\n",
    "        break"
   ]
  },
  {
   "cell_type": "code",
   "execution_count": null,
   "metadata": {},
   "outputs": [],
   "source": [
    "# Release webcam and close windows\n",
    "cap.release()\n",
    "cv2.destroyAllWindows()"
   ]
  }
 ],
 "metadata": {
  "kernelspec": {
   "display_name": "Python 3",
   "language": "python",
   "name": "python3"
  },
  "language_info": {
   "codemirror_mode": {
    "name": "ipython",
    "version": 3
   },
   "file_extension": ".py",
   "mimetype": "text/x-python",
   "name": "python",
   "nbconvert_exporter": "python",
   "pygments_lexer": "ipython3",
   "version": "3.11.9"
  }
 },
 "nbformat": 4,
 "nbformat_minor": 2
}
