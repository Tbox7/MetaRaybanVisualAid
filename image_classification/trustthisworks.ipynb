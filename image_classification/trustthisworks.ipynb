{
 "cells": [
  {
   "cell_type": "code",
   "execution_count": 2,
   "metadata": {},
   "outputs": [],
   "source": [
    "import torch\n",
    "import clip\n",
    "import cv2\n",
    "import numpy as np\n",
    "from PIL import Image"
   ]
  },
  {
   "cell_type": "code",
   "execution_count": 3,
   "metadata": {},
   "outputs": [],
   "source": [
    "device = \"cuda\" if torch.cuda.is_available() else \"cpu\"\n",
    "model, preprocess = clip.load(\"ViT-B/32\", device=device)"
   ]
  },
  {
   "cell_type": "code",
   "execution_count": 4,
   "metadata": {},
   "outputs": [],
   "source": [
    "object_labels = [\"cat\", \"dog\", \"person\", \"car\", \"bottle\", \"chair\", \n",
    "                 \"laptop\", \"phone\", \"tree\", \"book\", \"table\", \n",
    "                 \"toothbrush\", \"toothpaste\"]"
   ]
  },
  {
   "cell_type": "code",
   "execution_count": 5,
   "metadata": {},
   "outputs": [],
   "source": [
    "text_inputs = clip.tokenize(object_labels).to(device)\n"
   ]
  },
  {
   "cell_type": "code",
   "execution_count": 6,
   "metadata": {},
   "outputs": [],
   "source": [
    "cap = cv2.VideoCapture(0)"
   ]
  },
  {
   "cell_type": "code",
   "execution_count": 7,
   "metadata": {},
   "outputs": [],
   "source": [
    "if not cap.isOpened():\n",
    "    print(\"Error: Could not open webcam.\")\n",
    "    exit()"
   ]
  },
  {
   "cell_type": "code",
   "execution_count": null,
   "metadata": {},
   "outputs": [
    {
     "name": "stderr",
     "output_type": "stream",
     "text": [
      "C:\\Users\\Reach\\AppData\\Local\\Packages\\PythonSoftwareFoundation.Python.3.11_qbz5n2kfra8p0\\LocalCache\\local-packages\\Python311\\site-packages\\torch\\nn\\functional.py:5504: UserWarning: 1Torch was not compiled with flash attention. (Triggered internally at ..\\aten\\src\\ATen\\native\\transformers\\cuda\\sdp_utils.cpp:455.)\n",
      "  attn_output = scaled_dot_product_attention(q, k, v, attn_mask, dropout_p, is_causal)\n"
     ]
    },
    {
     "ename": "",
     "evalue": "",
     "output_type": "error",
     "traceback": [
      "\u001b[1;31mThe Kernel crashed while executing code in the current cell or a previous cell. \n",
      "\u001b[1;31mPlease review the code in the cell(s) to identify a possible cause of the failure. \n",
      "\u001b[1;31mClick <a href='https://aka.ms/vscodeJupyterKernelCrash'>here</a> for more info. \n",
      "\u001b[1;31mView Jupyter <a href='command:jupyter.viewOutput'>log</a> for further details."
     ]
    }
   ],
   "source": [
    "while True:\n",
    "    ret, frame = cap.read()\n",
    "    if not ret:\n",
    "        print(\"Error: Could not read frame.\")\n",
    "        break\n",
    "\n",
    "    height, width, _ = frame.shape\n",
    "\n",
    "    # Split frame into regions for multi-object detection\n",
    "    num_regions = 3  # Number of different locations to analyze\n",
    "    region_width = width // num_regions\n",
    "\n",
    "    detected_objects = []  # Store detected objects\n",
    "\n",
    "    for i in range(num_regions):\n",
    "        # Define sub-region coordinates\n",
    "        x1, x2 = i * region_width, (i + 1) * region_width\n",
    "        y1, y2 = int(height * 0.2), int(height * 0.8)\n",
    "\n",
    "        # Extract sub-region from frame\n",
    "        sub_frame = frame[y1:y2, x1:x2]\n",
    "\n",
    "        # Convert sub-frame to PIL Image\n",
    "        image = cv2.cvtColor(sub_frame, cv2.COLOR_BGR2RGB)\n",
    "        image = Image.fromarray(image)\n",
    "\n",
    "        # Preprocess image for CLIP\n",
    "        image_input = preprocess(image).unsqueeze(0).to(device)\n",
    "\n",
    "        # Get CLIP predictions\n",
    "        with torch.no_grad():\n",
    "            image_features = model.encode_image(image_input)\n",
    "            text_features = model.encode_text(text_inputs)\n",
    "            similarity = (image_features @ text_features.T).softmax(dim=-1)\n",
    "\n",
    "        # Get the best prediction\n",
    "        best_match_idx = similarity.argmax().item()\n",
    "        best_match_label = object_labels[best_match_idx]\n",
    "        confidence = similarity[0, best_match_idx].item()\n",
    "\n",
    "        # Add detected object to list if confidence is high\n",
    "        if confidence > 0.6:  # Set confidence threshold\n",
    "            detected_objects.append((best_match_label, confidence, x1, y1, x2, y2))\n",
    "\n",
    "    # Draw bounding boxes and labels for detected objects\n",
    "    for obj in detected_objects:\n",
    "        label, conf, x1, y1, x2, y2 = obj\n",
    "\n",
    "        # Draw bounding box\n",
    "        cv2.rectangle(frame, (x1, y1), (x2, y2), (0, 0, 255), 3)\n",
    "\n",
    "        # Draw label at the bottom\n",
    "        label_text = f\"{label} ({conf:.2f})\"\n",
    "        label_x, label_y = x1, y2 + 30  # Positioning label below the box\n",
    "        cv2.rectangle(frame, (label_x, label_y - 25), (label_x + 250, label_y), (0, 0, 255), -1)  # Red background\n",
    "        cv2.putText(frame, label_text, (label_x + 5, label_y - 5), cv2.FONT_HERSHEY_SIMPLEX, 0.7, (255, 255, 255), 2)\n",
    "\n",
    "    # Show the frame\n",
    "    cv2.imshow(\"CLIP Multi-Object Detection\", frame)\n",
    "\n",
    "    # Press 'q' to exit\n",
    "    if cv2.waitKey(1) & 0xFF == ord('q'):\n",
    "        break"
   ]
  },
  {
   "cell_type": "code",
   "execution_count": null,
   "metadata": {},
   "outputs": [],
   "source": [
    "cap.release()\n",
    "cv2.destroyAllWindows()"
   ]
  }
 ],
 "metadata": {
  "kernelspec": {
   "display_name": "Python 3",
   "language": "python",
   "name": "python3"
  },
  "language_info": {
   "codemirror_mode": {
    "name": "ipython",
    "version": 3
   },
   "file_extension": ".py",
   "mimetype": "text/x-python",
   "name": "python",
   "nbconvert_exporter": "python",
   "pygments_lexer": "ipython3",
   "version": "3.11.9"
  }
 },
 "nbformat": 4,
 "nbformat_minor": 2
}
