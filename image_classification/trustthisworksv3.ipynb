{
 "cells": [
  {
   "cell_type": "code",
   "execution_count": 1,
   "metadata": {},
   "outputs": [],
   "source": [
    "import torch\n",
    "import clip\n",
    "import cv2\n",
    "import pyttsx3  # Text-to-speech\n",
    "import speech_recognition as sr  # Speech recognition\n",
    "import threading\n",
    "import time\n",
    "from PIL import Image"
   ]
  },
  {
   "cell_type": "code",
   "execution_count": 2,
   "metadata": {},
   "outputs": [],
   "source": [
    "device = \"cuda\" if torch.cuda.is_available() else \"cpu\"\n",
    "model, preprocess = clip.load(\"ViT-B/32\", device=device)"
   ]
  },
  {
   "cell_type": "code",
   "execution_count": 4,
   "metadata": {},
   "outputs": [
    {
     "name": "stdout",
     "output_type": "stream",
     "text": [
      "Listening for trigger word...\n"
     ]
    },
    {
     "name": "stderr",
     "output_type": "stream",
     "text": [
      "Exception in thread Thread-11 (listen_for_trigger):\n",
      "Traceback (most recent call last):\n",
      "  File \"C:\\Program Files\\WindowsApps\\PythonSoftwareFoundation.Python.3.11_3.11.2544.0_x64__qbz5n2kfra8p0\\Lib\\threading.py\", line 1045, in _bootstrap_inner\n",
      "    self.run()\n",
      "  File \"C:\\Users\\Reach\\AppData\\Local\\Packages\\PythonSoftwareFoundation.Python.3.11_qbz5n2kfra8p0\\LocalCache\\local-packages\\Python311\\site-packages\\ipykernel\\ipkernel.py\", line 766, in run_closure\n",
      "    _threading_Thread_run(self)\n",
      "  File \"C:\\Program Files\\WindowsApps\\PythonSoftwareFoundation.Python.3.11_3.11.2544.0_x64__qbz5n2kfra8p0\\Lib\\threading.py\", line 982, in run\n",
      "    self._target(*self._args, **self._kwargs)\n",
      "  File \"C:\\Users\\Reach\\AppData\\Local\\Temp\\ipykernel_26548\\435163423.py\", line 18, in listen_for_trigger\n",
      "  File \"C:\\Users\\Reach\\AppData\\Local\\Packages\\PythonSoftwareFoundation.Python.3.11_qbz5n2kfra8p0\\LocalCache\\local-packages\\Python311\\site-packages\\speech_recognition\\__init__.py\", line 460, in listen\n",
      "    for a in result:\n",
      "  File \"C:\\Users\\Reach\\AppData\\Local\\Packages\\PythonSoftwareFoundation.Python.3.11_qbz5n2kfra8p0\\LocalCache\\local-packages\\Python311\\site-packages\\speech_recognition\\__init__.py\", line 490, in _listen\n",
      "    raise WaitTimeoutError(\"listening timed out while waiting for phrase to start\")\n",
      "speech_recognition.exceptions.WaitTimeoutError: listening timed out while waiting for phrase to start\n"
     ]
    }
   ],
   "source": [
    "# Initialize text-to-speech engine\n",
    "engine = pyttsx3.init()\n",
    "stop_flag = False\n",
    "def speak(text):\n",
    "    engine.say(text)\n",
    "    engine.runAndWait()\n",
    "\n",
    "# Initialize speech recognition\n",
    "recognizer = sr.Recognizer()\n",
    "spoken_text = \"\"\n",
    "def listen_for_trigger():\n",
    "    global spoken_text, stop_flag\n",
    "    while not stop_flag:  # Run until stop_flag is set to True\n",
    "        with sr.Microphone() as source:\n",
    "            recognizer.adjust_for_ambient_noise(source)\n",
    "            try:\n",
    "                print(\"Listening for trigger word...\")\n",
    "                audio = recognizer.listen(source, timeout=3)\n",
    "                spoken_text = recognizer.recognize_google(audio).lower()\n",
    "            except sr.UnknownValueError:\n",
    "                spoken_text = \"\"\n",
    "            except sr.RequestError:\n",
    "                print(\"Speech recognition service unavailable\")\n",
    "                spoken_text = \"\"\n",
    "\n",
    "# Start speech recognition in a separate thread\n",
    "thread = threading.Thread(target=listen_for_trigger, daemon=True)\n",
    "thread.start()\n",
    "\n",
    "# Object categories\n",
    "object_labels = [\"keyboard\", \"car\", \"bottle\", \"chair\", \"laptop\", \"phone\", \"tree\", \"book\", \"table\", \"toothbrush\", \"toothpaste\", \"pencil\",\"bicycle\", \"cup\"]\n",
    "\n",
    "# Tokenize labels\n",
    "text_inputs = clip.tokenize(object_labels).to(device)\n",
    "\n",
    "# Open webcam\n",
    "cap = cv2.VideoCapture(0)\n",
    "cap.set(cv2.CAP_PROP_FRAME_WIDTH, 640)  # Reduce resolution to 640x480\n",
    "cap.set(cv2.CAP_PROP_FRAME_HEIGHT, 480)\n",
    "cap.set(cv2.CAP_PROP_FPS, 60)  # Lower FPS for better performance\n",
    "\n",
    "if not cap.isOpened():\n",
    "    print(\"Error: Could not open webcam.\")\n",
    "    exit()\n",
    "\n",
    "trigger_word = \"identify\"\n",
    "last_label = None\n",
    "last_confidence = 0\n",
    "last_frame_time = time.time()"
   ]
  },
  {
   "cell_type": "code",
   "execution_count": 5,
   "metadata": {},
   "outputs": [
    {
     "name": "stderr",
     "output_type": "stream",
     "text": [
      "C:\\Users\\Reach\\AppData\\Local\\Packages\\PythonSoftwareFoundation.Python.3.11_qbz5n2kfra8p0\\LocalCache\\local-packages\\Python311\\site-packages\\torch\\nn\\functional.py:5504: UserWarning: 1Torch was not compiled with flash attention. (Triggered internally at ..\\aten\\src\\ATen\\native\\transformers\\cuda\\sdp_utils.cpp:455.)\n",
      "  attn_output = scaled_dot_product_attention(q, k, v, attn_mask, dropout_p, is_causal)\n"
     ]
    }
   ],
   "source": [
    "while True:\n",
    "    ret, frame = cap.read()\n",
    "    if not ret:\n",
    "        print(\"Error: Could not read frame.\")\n",
    "        break\n",
    "    last_frame_time = time.time()\n",
    "    height, width, _ = frame.shape\n",
    "    box_width, box_height = int(width * 0.40), int(height * 0.90)\n",
    "    x1, y1 = (width - box_width) // 2, (height - box_height) // 2\n",
    "    x2, y2 = x1 + box_width, y1 + box_height\n",
    "\n",
    "    # Extract sub-region & downscale before CLIP processing\n",
    "    sub_frame = frame[y1:y2, x1:x2]\n",
    "    sub_frame = cv2.resize(sub_frame, (256, 256))  \n",
    "\n",
    "    # Convert to PIL Image\n",
    "    image = cv2.cvtColor(sub_frame, cv2.COLOR_BGR2RGB)\n",
    "    image = Image.fromarray(image)\n",
    "\n",
    "    # Preprocess & run CLIP model\n",
    "    image_input = preprocess(image).unsqueeze(0).to(device)\n",
    "\n",
    "    with torch.no_grad():\n",
    "        image_features = model.encode_image(image_input)\n",
    "        text_features = model.encode_text(text_inputs)\n",
    "        similarity = (image_features @ text_features.T).softmax(dim=-1)\n",
    "\n",
    "    best_match_idx = similarity.argmax().item()\n",
    "    best_match_label = object_labels[best_match_idx]\n",
    "    confidence = similarity[0, best_match_idx].item()\n",
    "\n",
    "    cv2.rectangle(frame, (x1, y1), (x2, y2), (0, 0, 255), 3)\n",
    "\n",
    "    if confidence > 0.3:\n",
    "        label_text = f\"{best_match_label} ({confidence:.2f})\"\n",
    "        label_x, label_y = x1, y2 + 30\n",
    "        cv2.rectangle(frame, (label_x, label_y - 25), (label_x + 250, label_y), (0, 0, 255), -1)\n",
    "        cv2.putText(frame, label_text, (label_x + 5, label_y - 5), cv2.FONT_HERSHEY_SIMPLEX, 0.7, (255, 255, 255), 2)\n",
    "\n",
    "    # Check if trigger word was spoken\n",
    "    if trigger_word in spoken_text:\n",
    "        print(f\"Trigger word detected: {spoken_text}\")\n",
    "        speak(f\"I see a {best_match_label}\")\n",
    "        spoken_text = \"\"  # Reset trigger word detection\n",
    "\n",
    "    # Show the frame\n",
    "    cv2.imshow(\"CqLIP Object Detection (Optimized)\", frame)\n",
    "\n",
    "    # Press 'q' to exit\n",
    "    if cv2.waitKey(1) & 0xFF == ord('q'):\n",
    "        break\n",
    "stop_flag = True  \n",
    "thread.join()\n",
    "cap.release()\n",
    "cv2.destroyAllWindows()"
   ]
  },
  {
   "cell_type": "code",
   "execution_count": null,
   "metadata": {},
   "outputs": [],
   "source": []
  }
 ],
 "metadata": {
  "kernelspec": {
   "display_name": "Python 3",
   "language": "python",
   "name": "python3"
  },
  "language_info": {
   "codemirror_mode": {
    "name": "ipython",
    "version": 3
   },
   "file_extension": ".py",
   "mimetype": "text/x-python",
   "name": "python",
   "nbconvert_exporter": "python",
   "pygments_lexer": "ipython3",
   "version": "3.11.9"
  }
 },
 "nbformat": 4,
 "nbformat_minor": 2
}
