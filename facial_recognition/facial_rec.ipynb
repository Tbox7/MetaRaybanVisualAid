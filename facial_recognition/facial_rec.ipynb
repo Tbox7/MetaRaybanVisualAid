{
 "cells": [
  {
   "cell_type": "code",
   "execution_count": 1,
   "metadata": {},
   "outputs": [],
   "source": [
    "import cv2\n",
    "import face_recognition\n",
    "import numpy as np\n",
    "import os"
   ]
  },
  {
   "cell_type": "code",
   "execution_count": 2,
   "metadata": {},
   "outputs": [],
   "source": [
    "hamsan_img = cv2.imread(\"faces/hamsan.png\")\n",
    "rgb_img = cv2.cvtColor(hamsan_img, cv2.COLOR_BGR2RGB)\n",
    "img_encoding = face_recognition.face_encodings(rgb_img)[0]"
   ]
  },
  {
   "cell_type": "code",
   "execution_count": 3,
   "metadata": {},
   "outputs": [],
   "source": [
    "yesh_img = cv2.imread(\"faces/yeshwanth.png\")\n",
    "rgb_img2 = cv2.cvtColor(yesh_img, cv2.COLOR_BGR2RGB)\n",
    "img_encoding2 = face_recognition.face_encodings(rgb_img2)[0]"
   ]
  },
  {
   "cell_type": "code",
   "execution_count": null,
   "metadata": {},
   "outputs": [],
   "source": [
    "mason_img = cv2.imread(\"faces/mason.png\")\n",
    "rgb_img3 = cv2.cvtColor(mason_img, cv2.COLOR_BGR2RGB)\n",
    "img_encoding3 = face_recognition.face_encodings(rgb_img3)[0]\n",
    "\n",
    "vj_img = cv2.imread(\"faces/vijay.png\")\n",
    "rgb_img4 = cv2.cvtColor(vj_img, cv2.COLOR_BGR2RGB)\n",
    "img_encoding4 = face_recognition.face_encodings(rgb_img4)[0]\n",
    "\n",
    "dhanu_img = cv2.imread(\"faces/dhanush.png\")\n",
    "rgb_img5 = cv2.cvtColor(dhanu_img, cv2.COLOR_BGR2RGB)\n",
    "img_encoding5 = face_recognition.face_encodings(rgb_img5)[0]\n",
    "\n",
    "\n"
   ]
  },
  {
   "cell_type": "code",
   "execution_count": null,
   "metadata": {},
   "outputs": [],
   "source": [
    "result = face_recognition.compare_faces([img_encoding], img_encoding3)\n",
    "result2 = face_recognition.compare_faces([img_encoding], img_encoding2)\n",
    "result3 = face_recognition.compare_faces([img_encoding2], img_encoding3)\n",
    "result4 = face_recognition.compare_faces([img_encoding2], img_encoding4)\n",
    "result5 = face_recognition.compare_faces([img_encoding2], img_encoding5)\n",
    "result6 = face_recognition.compare_faces([img_encoding], img_encoding4)\n",
    "result7 = face_recognition.compare_faces([img_encoding], img_encoding5)\n",
    "result8 = face_recognition.compare_faces([img_encoding4], img_encoding5)\n",
    "result9 = face_recognition.compare_faces([img_encoding2], img_encoding)\n",
    "print(\"Result(H+M): \",result)\n",
    "print(\"Result2(H+Y): \",result2)\n",
    "print(\"Result3(Y+M): \",result3)\n",
    "print(\"Result4(Y+V): \",result4)\n",
    "print(\"Result5(Y+D): \",result5)\n",
    "print(\"Result6(H+V): \",result6)\n",
    "print(\"Result7(H+D): \",result7)\n",
    "print(\"Result8(V+D): \",result8)\n",
    "print(\"Result(Y+H):\", result9)"
   ]
  },
  {
   "cell_type": "code",
   "execution_count": null,
   "metadata": {},
   "outputs": [],
   "source": [
    "cv2.imshow(\"Img\", hamsan_img)\n",
    "cv2.waitKey(0)"
   ]
  },
  {
   "cell_type": "code",
   "execution_count": 3,
   "metadata": {},
   "outputs": [],
   "source": [
    "video_capture = cv2.VideoCapture(0)\n",
    "while True:\n",
    "    ret, frame = video_capture.read()\n",
    "    if not ret:\n",
    "        print(\"No frame\")\n",
    "        break\n",
    "\n",
    "    cv2.imshow(\"Something\", frame)\n",
    "    if cv2.waitKey(1) & 0xFF == ord('q'):\n",
    "        break\n",
    "\n",
    "video_capture.release()\n",
    "cv2.destroyAllWindows()"
   ]
  },
  {
   "cell_type": "code",
   "execution_count": null,
   "metadata": {},
   "outputs": [],
   "source": []
  }
 ],
 "metadata": {
  "kernelspec": {
   "display_name": "Python 3",
   "language": "python",
   "name": "python3"
  },
  "language_info": {
   "codemirror_mode": {
    "name": "ipython",
    "version": 3
   },
   "file_extension": ".py",
   "mimetype": "text/x-python",
   "name": "python",
   "nbconvert_exporter": "python",
   "pygments_lexer": "ipython3",
   "version": "3.11.9"
  }
 },
 "nbformat": 4,
 "nbformat_minor": 2
}
